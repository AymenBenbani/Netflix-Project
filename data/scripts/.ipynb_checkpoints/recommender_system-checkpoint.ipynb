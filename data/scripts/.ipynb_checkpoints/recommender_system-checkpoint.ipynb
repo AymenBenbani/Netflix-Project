{
 "cells": [
  {
   "cell_type": "markdown",
   "metadata": {},
   "source": [
    "# Recommandation"
   ]
  },
  {
   "cell_type": "markdown",
   "metadata": {},
   "source": [
    "The file `top10K-TMDB-movies.csv` contains information about Netflix content."
   ]
  },
  {
   "cell_type": "markdown",
   "metadata": {},
   "source": [
    "## Load, examine, clean, prepare"
   ]
  },
  {
   "cell_type": "code",
   "execution_count": 1,
   "metadata": {
    "scrolled": true
   },
   "outputs": [
    {
     "data": {
      "text/html": [
       "<div>\n",
       "<style scoped>\n",
       "    .dataframe tbody tr th:only-of-type {\n",
       "        vertical-align: middle;\n",
       "    }\n",
       "\n",
       "    .dataframe tbody tr th {\n",
       "        vertical-align: top;\n",
       "    }\n",
       "\n",
       "    .dataframe thead th {\n",
       "        text-align: right;\n",
       "    }\n",
       "</style>\n",
       "<table border=\"1\" class=\"dataframe\">\n",
       "  <thead>\n",
       "    <tr style=\"text-align: right;\">\n",
       "      <th></th>\n",
       "      <th>id</th>\n",
       "      <th>title</th>\n",
       "      <th>genre</th>\n",
       "      <th>original_language</th>\n",
       "      <th>overview</th>\n",
       "      <th>popularity</th>\n",
       "      <th>release_date</th>\n",
       "      <th>vote_average</th>\n",
       "      <th>vote_count</th>\n",
       "    </tr>\n",
       "  </thead>\n",
       "  <tbody>\n",
       "    <tr>\n",
       "      <th>0</th>\n",
       "      <td>278</td>\n",
       "      <td>The Shawshank Redemption</td>\n",
       "      <td>Drama,Crime</td>\n",
       "      <td>en</td>\n",
       "      <td>Framed in the 1940s for the double murder of h...</td>\n",
       "      <td>94.075</td>\n",
       "      <td>1994-09-23</td>\n",
       "      <td>8.7</td>\n",
       "      <td>21862</td>\n",
       "    </tr>\n",
       "    <tr>\n",
       "      <th>1</th>\n",
       "      <td>19404</td>\n",
       "      <td>Dilwale Dulhania Le Jayenge</td>\n",
       "      <td>Comedy,Drama,Romance</td>\n",
       "      <td>hi</td>\n",
       "      <td>Raj is a rich, carefree, happy-go-lucky second...</td>\n",
       "      <td>25.408</td>\n",
       "      <td>1995-10-19</td>\n",
       "      <td>8.7</td>\n",
       "      <td>3731</td>\n",
       "    </tr>\n",
       "    <tr>\n",
       "      <th>2</th>\n",
       "      <td>238</td>\n",
       "      <td>The Godfather</td>\n",
       "      <td>Drama,Crime</td>\n",
       "      <td>en</td>\n",
       "      <td>Spanning the years 1945 to 1955, a chronicle o...</td>\n",
       "      <td>90.585</td>\n",
       "      <td>1972-03-14</td>\n",
       "      <td>8.7</td>\n",
       "      <td>16280</td>\n",
       "    </tr>\n",
       "    <tr>\n",
       "      <th>3</th>\n",
       "      <td>424</td>\n",
       "      <td>Schindler's List</td>\n",
       "      <td>Drama,History,War</td>\n",
       "      <td>en</td>\n",
       "      <td>The true story of how businessman Oskar Schind...</td>\n",
       "      <td>44.761</td>\n",
       "      <td>1993-12-15</td>\n",
       "      <td>8.6</td>\n",
       "      <td>12959</td>\n",
       "    </tr>\n",
       "    <tr>\n",
       "      <th>4</th>\n",
       "      <td>240</td>\n",
       "      <td>The Godfather: Part II</td>\n",
       "      <td>Drama,Crime</td>\n",
       "      <td>en</td>\n",
       "      <td>In the continuing saga of the Corleone crime f...</td>\n",
       "      <td>57.749</td>\n",
       "      <td>1974-12-20</td>\n",
       "      <td>8.6</td>\n",
       "      <td>9811</td>\n",
       "    </tr>\n",
       "  </tbody>\n",
       "</table>\n",
       "</div>"
      ],
      "text/plain": [
       "      id                        title                 genre original_language  \\\n",
       "0    278     The Shawshank Redemption           Drama,Crime                en   \n",
       "1  19404  Dilwale Dulhania Le Jayenge  Comedy,Drama,Romance                hi   \n",
       "2    238                The Godfather           Drama,Crime                en   \n",
       "3    424             Schindler's List     Drama,History,War                en   \n",
       "4    240       The Godfather: Part II           Drama,Crime                en   \n",
       "\n",
       "                                            overview  popularity release_date  \\\n",
       "0  Framed in the 1940s for the double murder of h...      94.075   1994-09-23   \n",
       "1  Raj is a rich, carefree, happy-go-lucky second...      25.408   1995-10-19   \n",
       "2  Spanning the years 1945 to 1955, a chronicle o...      90.585   1972-03-14   \n",
       "3  The true story of how businessman Oskar Schind...      44.761   1993-12-15   \n",
       "4  In the continuing saga of the Corleone crime f...      57.749   1974-12-20   \n",
       "\n",
       "   vote_average  vote_count  \n",
       "0           8.7       21862  \n",
       "1           8.7        3731  \n",
       "2           8.7       16280  \n",
       "3           8.6       12959  \n",
       "4           8.6        9811  "
      ]
     },
     "execution_count": 1,
     "metadata": {},
     "output_type": "execute_result"
    }
   ],
   "source": [
    "# Read and parse the csv file.\n",
    "\n",
    "import pandas as pd\n",
    "data = pd.read_csv(\"../raw_data/recommender_system.csv\")\n",
    "\n",
    "# We can take a look at the dataset to see what it contains \n",
    "data.head()"
   ]
  },
  {
   "cell_type": "code",
   "execution_count": 2,
   "metadata": {
    "scrolled": true
   },
   "outputs": [
    {
     "name": "stdout",
     "output_type": "stream",
     "text": [
      "The dataset has 10000 rows and 9 columns.\n"
     ]
    }
   ],
   "source": [
    "# Rows and columns in the dataset\n",
    "\n",
    "n_rows, n_cols = data.shape\n",
    "print(\"The dataset has {} rows and {} columns.\".format(n_rows, n_cols))"
   ]
  },
  {
   "cell_type": "markdown",
   "metadata": {},
   "source": [
    "## Feature Selection"
   ]
  },
  {
   "cell_type": "code",
   "execution_count": 3,
   "metadata": {
    "scrolled": true
   },
   "outputs": [
    {
     "name": "stdout",
     "output_type": "stream",
     "text": [
      "The columns of this dataset are :\n",
      "  - id\n",
      "  - title\n",
      "  - genre\n",
      "  - original_language\n",
      "  - overview\n",
      "  - popularity\n",
      "  - release_date\n",
      "  - vote_average\n",
      "  - vote_count\n"
     ]
    }
   ],
   "source": [
    "# Columns of this dataset.\n",
    "\n",
    "print(\"The columns of this dataset are :\")\n",
    "for col_name in data.columns:\n",
    "    print(\"  -\", col_name)"
   ]
  },
  {
   "cell_type": "code",
   "execution_count": 4,
   "metadata": {},
   "outputs": [
    {
     "data": {
      "text/html": [
       "<div>\n",
       "<style scoped>\n",
       "    .dataframe tbody tr th:only-of-type {\n",
       "        vertical-align: middle;\n",
       "    }\n",
       "\n",
       "    .dataframe tbody tr th {\n",
       "        vertical-align: top;\n",
       "    }\n",
       "\n",
       "    .dataframe thead th {\n",
       "        text-align: right;\n",
       "    }\n",
       "</style>\n",
       "<table border=\"1\" class=\"dataframe\">\n",
       "  <thead>\n",
       "    <tr style=\"text-align: right;\">\n",
       "      <th></th>\n",
       "      <th>id</th>\n",
       "      <th>title</th>\n",
       "      <th>overview</th>\n",
       "      <th>genre</th>\n",
       "    </tr>\n",
       "  </thead>\n",
       "  <tbody>\n",
       "    <tr>\n",
       "      <th>0</th>\n",
       "      <td>278</td>\n",
       "      <td>The Shawshank Redemption</td>\n",
       "      <td>Framed in the 1940s for the double murder of h...</td>\n",
       "      <td>Drama,Crime</td>\n",
       "    </tr>\n",
       "    <tr>\n",
       "      <th>1</th>\n",
       "      <td>19404</td>\n",
       "      <td>Dilwale Dulhania Le Jayenge</td>\n",
       "      <td>Raj is a rich, carefree, happy-go-lucky second...</td>\n",
       "      <td>Comedy,Drama,Romance</td>\n",
       "    </tr>\n",
       "    <tr>\n",
       "      <th>2</th>\n",
       "      <td>238</td>\n",
       "      <td>The Godfather</td>\n",
       "      <td>Spanning the years 1945 to 1955, a chronicle o...</td>\n",
       "      <td>Drama,Crime</td>\n",
       "    </tr>\n",
       "    <tr>\n",
       "      <th>3</th>\n",
       "      <td>424</td>\n",
       "      <td>Schindler's List</td>\n",
       "      <td>The true story of how businessman Oskar Schind...</td>\n",
       "      <td>Drama,History,War</td>\n",
       "    </tr>\n",
       "    <tr>\n",
       "      <th>4</th>\n",
       "      <td>240</td>\n",
       "      <td>The Godfather: Part II</td>\n",
       "      <td>In the continuing saga of the Corleone crime f...</td>\n",
       "      <td>Drama,Crime</td>\n",
       "    </tr>\n",
       "    <tr>\n",
       "      <th>...</th>\n",
       "      <td>...</td>\n",
       "      <td>...</td>\n",
       "      <td>...</td>\n",
       "      <td>...</td>\n",
       "    </tr>\n",
       "    <tr>\n",
       "      <th>9995</th>\n",
       "      <td>10196</td>\n",
       "      <td>The Last Airbender</td>\n",
       "      <td>The story follows the adventures of Aang, a yo...</td>\n",
       "      <td>Action,Adventure,Fantasy</td>\n",
       "    </tr>\n",
       "    <tr>\n",
       "      <th>9996</th>\n",
       "      <td>331446</td>\n",
       "      <td>Sharknado 3: Oh Hell No!</td>\n",
       "      <td>The sharks take bite out of the East Coast whe...</td>\n",
       "      <td>Action,TV Movie,Science Fiction,Comedy,Adventure</td>\n",
       "    </tr>\n",
       "    <tr>\n",
       "      <th>9997</th>\n",
       "      <td>13995</td>\n",
       "      <td>Captain America</td>\n",
       "      <td>During World War II, a brave, patriotic Americ...</td>\n",
       "      <td>Action,Science Fiction,War</td>\n",
       "    </tr>\n",
       "    <tr>\n",
       "      <th>9998</th>\n",
       "      <td>2312</td>\n",
       "      <td>In the Name of the King: A Dungeon Siege Tale</td>\n",
       "      <td>A man named Farmer sets out to rescue his kidn...</td>\n",
       "      <td>Adventure,Fantasy,Action,Drama</td>\n",
       "    </tr>\n",
       "    <tr>\n",
       "      <th>9999</th>\n",
       "      <td>455957</td>\n",
       "      <td>Domino</td>\n",
       "      <td>Seeking justice for his partner’s murder by an...</td>\n",
       "      <td>Thriller,Action,Crime</td>\n",
       "    </tr>\n",
       "  </tbody>\n",
       "</table>\n",
       "<p>10000 rows × 4 columns</p>\n",
       "</div>"
      ],
      "text/plain": [
       "          id                                          title  \\\n",
       "0        278                       The Shawshank Redemption   \n",
       "1      19404                    Dilwale Dulhania Le Jayenge   \n",
       "2        238                                  The Godfather   \n",
       "3        424                               Schindler's List   \n",
       "4        240                         The Godfather: Part II   \n",
       "...      ...                                            ...   \n",
       "9995   10196                             The Last Airbender   \n",
       "9996  331446                       Sharknado 3: Oh Hell No!   \n",
       "9997   13995                                Captain America   \n",
       "9998    2312  In the Name of the King: A Dungeon Siege Tale   \n",
       "9999  455957                                         Domino   \n",
       "\n",
       "                                               overview  \\\n",
       "0     Framed in the 1940s for the double murder of h...   \n",
       "1     Raj is a rich, carefree, happy-go-lucky second...   \n",
       "2     Spanning the years 1945 to 1955, a chronicle o...   \n",
       "3     The true story of how businessman Oskar Schind...   \n",
       "4     In the continuing saga of the Corleone crime f...   \n",
       "...                                                 ...   \n",
       "9995  The story follows the adventures of Aang, a yo...   \n",
       "9996  The sharks take bite out of the East Coast whe...   \n",
       "9997  During World War II, a brave, patriotic Americ...   \n",
       "9998  A man named Farmer sets out to rescue his kidn...   \n",
       "9999  Seeking justice for his partner’s murder by an...   \n",
       "\n",
       "                                                 genre  \n",
       "0                                          Drama,Crime  \n",
       "1                                 Comedy,Drama,Romance  \n",
       "2                                          Drama,Crime  \n",
       "3                                    Drama,History,War  \n",
       "4                                          Drama,Crime  \n",
       "...                                                ...  \n",
       "9995                          Action,Adventure,Fantasy  \n",
       "9996  Action,TV Movie,Science Fiction,Comedy,Adventure  \n",
       "9997                        Action,Science Fiction,War  \n",
       "9998                    Adventure,Fantasy,Action,Drama  \n",
       "9999                             Thriller,Action,Crime  \n",
       "\n",
       "[10000 rows x 4 columns]"
      ]
     },
     "execution_count": 4,
     "metadata": {},
     "output_type": "execute_result"
    }
   ],
   "source": [
    "# Keeping important columns\n",
    "data = data[['id', 'title', 'overview', 'genre']]\n",
    "data"
   ]
  },
  {
   "cell_type": "code",
   "execution_count": 5,
   "metadata": {},
   "outputs": [
    {
     "data": {
      "text/html": [
       "<div>\n",
       "<style scoped>\n",
       "    .dataframe tbody tr th:only-of-type {\n",
       "        vertical-align: middle;\n",
       "    }\n",
       "\n",
       "    .dataframe tbody tr th {\n",
       "        vertical-align: top;\n",
       "    }\n",
       "\n",
       "    .dataframe thead th {\n",
       "        text-align: right;\n",
       "    }\n",
       "</style>\n",
       "<table border=\"1\" class=\"dataframe\">\n",
       "  <thead>\n",
       "    <tr style=\"text-align: right;\">\n",
       "      <th></th>\n",
       "      <th>id</th>\n",
       "      <th>title</th>\n",
       "      <th>tags</th>\n",
       "    </tr>\n",
       "  </thead>\n",
       "  <tbody>\n",
       "    <tr>\n",
       "      <th>0</th>\n",
       "      <td>278</td>\n",
       "      <td>The Shawshank Redemption</td>\n",
       "      <td>Framed in the 1940s for the double murder of h...</td>\n",
       "    </tr>\n",
       "    <tr>\n",
       "      <th>1</th>\n",
       "      <td>19404</td>\n",
       "      <td>Dilwale Dulhania Le Jayenge</td>\n",
       "      <td>Raj is a rich, carefree, happy-go-lucky second...</td>\n",
       "    </tr>\n",
       "    <tr>\n",
       "      <th>2</th>\n",
       "      <td>238</td>\n",
       "      <td>The Godfather</td>\n",
       "      <td>Spanning the years 1945 to 1955, a chronicle o...</td>\n",
       "    </tr>\n",
       "    <tr>\n",
       "      <th>3</th>\n",
       "      <td>424</td>\n",
       "      <td>Schindler's List</td>\n",
       "      <td>The true story of how businessman Oskar Schind...</td>\n",
       "    </tr>\n",
       "    <tr>\n",
       "      <th>4</th>\n",
       "      <td>240</td>\n",
       "      <td>The Godfather: Part II</td>\n",
       "      <td>In the continuing saga of the Corleone crime f...</td>\n",
       "    </tr>\n",
       "    <tr>\n",
       "      <th>...</th>\n",
       "      <td>...</td>\n",
       "      <td>...</td>\n",
       "      <td>...</td>\n",
       "    </tr>\n",
       "    <tr>\n",
       "      <th>9995</th>\n",
       "      <td>10196</td>\n",
       "      <td>The Last Airbender</td>\n",
       "      <td>The story follows the adventures of Aang, a yo...</td>\n",
       "    </tr>\n",
       "    <tr>\n",
       "      <th>9996</th>\n",
       "      <td>331446</td>\n",
       "      <td>Sharknado 3: Oh Hell No!</td>\n",
       "      <td>The sharks take bite out of the East Coast whe...</td>\n",
       "    </tr>\n",
       "    <tr>\n",
       "      <th>9997</th>\n",
       "      <td>13995</td>\n",
       "      <td>Captain America</td>\n",
       "      <td>During World War II, a brave, patriotic Americ...</td>\n",
       "    </tr>\n",
       "    <tr>\n",
       "      <th>9998</th>\n",
       "      <td>2312</td>\n",
       "      <td>In the Name of the King: A Dungeon Siege Tale</td>\n",
       "      <td>A man named Farmer sets out to rescue his kidn...</td>\n",
       "    </tr>\n",
       "    <tr>\n",
       "      <th>9999</th>\n",
       "      <td>455957</td>\n",
       "      <td>Domino</td>\n",
       "      <td>Seeking justice for his partner’s murder by an...</td>\n",
       "    </tr>\n",
       "  </tbody>\n",
       "</table>\n",
       "<p>10000 rows × 3 columns</p>\n",
       "</div>"
      ],
      "text/plain": [
       "          id                                          title  \\\n",
       "0        278                       The Shawshank Redemption   \n",
       "1      19404                    Dilwale Dulhania Le Jayenge   \n",
       "2        238                                  The Godfather   \n",
       "3        424                               Schindler's List   \n",
       "4        240                         The Godfather: Part II   \n",
       "...      ...                                            ...   \n",
       "9995   10196                             The Last Airbender   \n",
       "9996  331446                       Sharknado 3: Oh Hell No!   \n",
       "9997   13995                                Captain America   \n",
       "9998    2312  In the Name of the King: A Dungeon Siege Tale   \n",
       "9999  455957                                         Domino   \n",
       "\n",
       "                                                   tags  \n",
       "0     Framed in the 1940s for the double murder of h...  \n",
       "1     Raj is a rich, carefree, happy-go-lucky second...  \n",
       "2     Spanning the years 1945 to 1955, a chronicle o...  \n",
       "3     The true story of how businessman Oskar Schind...  \n",
       "4     In the continuing saga of the Corleone crime f...  \n",
       "...                                                 ...  \n",
       "9995  The story follows the adventures of Aang, a yo...  \n",
       "9996  The sharks take bite out of the East Coast whe...  \n",
       "9997  During World War II, a brave, patriotic Americ...  \n",
       "9998  A man named Farmer sets out to rescue his kidn...  \n",
       "9999  Seeking justice for his partner’s murder by an...  \n",
       "\n",
       "[10000 rows x 3 columns]"
      ]
     },
     "execution_count": 5,
     "metadata": {},
     "output_type": "execute_result"
    }
   ],
   "source": [
    "# Grouping genre and overview\n",
    "data['tags']=data['overview']+data['genre']\n",
    "\n",
    "# Droping genre and overview\n",
    "data = data.drop(columns=['overview', 'genre'])\n",
    "data"
   ]
  },
  {
   "cell_type": "code",
   "execution_count": 6,
   "metadata": {
    "scrolled": true
   },
   "outputs": [
    {
     "name": "stdout",
     "output_type": "stream",
     "text": [
      "id        0\n",
      "title     0\n",
      "tags     15\n",
      "dtype: int64\n",
      "There are 15 missing values in the dataframe.\n"
     ]
    }
   ],
   "source": [
    "# How many missing values ?\n",
    "\n",
    "print(data.isna().sum())\n",
    "print(\"There are {} missing values in the dataframe.\".format(data.isna().sum().sum()))"
   ]
  },
  {
   "cell_type": "code",
   "execution_count": 7,
   "metadata": {
    "scrolled": true
   },
   "outputs": [
    {
     "name": "stdout",
     "output_type": "stream",
     "text": [
      "Number of rows removed having at least 1 missing value: 15\n"
     ]
    }
   ],
   "source": [
    "# Remove the rows which have at least 1 missing value.\n",
    "data = data.dropna(axis='index')\n",
    "#verification\n",
    "rows_no_missing_values = data.shape[0]\n",
    "print(\"Number of rows removed having at least 1 missing value:\", n_rows - rows_no_missing_values)"
   ]
  },
  {
   "cell_type": "code",
   "execution_count": 8,
   "metadata": {},
   "outputs": [
    {
     "name": "stdout",
     "output_type": "stream",
     "text": [
      "There are 0 duplicate values in the dataframe.\n"
     ]
    }
   ],
   "source": [
    "# How many duplicate values ?\n",
    "print(\"There are {} duplicate values in the dataframe.\".\n",
    "     format(data.duplicated().sum()))"
   ]
  },
  {
   "cell_type": "code",
   "execution_count": 9,
   "metadata": {},
   "outputs": [
    {
     "data": {
      "text/html": [
       "<div>\n",
       "<style scoped>\n",
       "    .dataframe tbody tr th:only-of-type {\n",
       "        vertical-align: middle;\n",
       "    }\n",
       "\n",
       "    .dataframe tbody tr th {\n",
       "        vertical-align: top;\n",
       "    }\n",
       "\n",
       "    .dataframe thead th {\n",
       "        text-align: right;\n",
       "    }\n",
       "</style>\n",
       "<table border=\"1\" class=\"dataframe\">\n",
       "  <thead>\n",
       "    <tr style=\"text-align: right;\">\n",
       "      <th></th>\n",
       "      <th>id</th>\n",
       "      <th>title</th>\n",
       "      <th>tags</th>\n",
       "    </tr>\n",
       "  </thead>\n",
       "  <tbody>\n",
       "    <tr>\n",
       "      <th>0</th>\n",
       "      <td>278</td>\n",
       "      <td>The Shawshank Redemption</td>\n",
       "      <td>Framed in the 1940s for the double murder of h...</td>\n",
       "    </tr>\n",
       "    <tr>\n",
       "      <th>1</th>\n",
       "      <td>19404</td>\n",
       "      <td>Dilwale Dulhania Le Jayenge</td>\n",
       "      <td>Raj is a rich, carefree, happy-go-lucky second...</td>\n",
       "    </tr>\n",
       "    <tr>\n",
       "      <th>2</th>\n",
       "      <td>238</td>\n",
       "      <td>The Godfather</td>\n",
       "      <td>Spanning the years 1945 to 1955, a chronicle o...</td>\n",
       "    </tr>\n",
       "    <tr>\n",
       "      <th>3</th>\n",
       "      <td>424</td>\n",
       "      <td>Schindler's List</td>\n",
       "      <td>The true story of how businessman Oskar Schind...</td>\n",
       "    </tr>\n",
       "    <tr>\n",
       "      <th>4</th>\n",
       "      <td>240</td>\n",
       "      <td>The Godfather: Part II</td>\n",
       "      <td>In the continuing saga of the Corleone crime f...</td>\n",
       "    </tr>\n",
       "    <tr>\n",
       "      <th>...</th>\n",
       "      <td>...</td>\n",
       "      <td>...</td>\n",
       "      <td>...</td>\n",
       "    </tr>\n",
       "    <tr>\n",
       "      <th>9995</th>\n",
       "      <td>10196</td>\n",
       "      <td>The Last Airbender</td>\n",
       "      <td>The story follows the adventures of Aang, a yo...</td>\n",
       "    </tr>\n",
       "    <tr>\n",
       "      <th>9996</th>\n",
       "      <td>331446</td>\n",
       "      <td>Sharknado 3: Oh Hell No!</td>\n",
       "      <td>The sharks take bite out of the East Coast whe...</td>\n",
       "    </tr>\n",
       "    <tr>\n",
       "      <th>9997</th>\n",
       "      <td>13995</td>\n",
       "      <td>Captain America</td>\n",
       "      <td>During World War II, a brave, patriotic Americ...</td>\n",
       "    </tr>\n",
       "    <tr>\n",
       "      <th>9998</th>\n",
       "      <td>2312</td>\n",
       "      <td>In the Name of the King: A Dungeon Siege Tale</td>\n",
       "      <td>A man named Farmer sets out to rescue his kidn...</td>\n",
       "    </tr>\n",
       "    <tr>\n",
       "      <th>9999</th>\n",
       "      <td>455957</td>\n",
       "      <td>Domino</td>\n",
       "      <td>Seeking justice for his partner’s murder by an...</td>\n",
       "    </tr>\n",
       "  </tbody>\n",
       "</table>\n",
       "<p>9985 rows × 3 columns</p>\n",
       "</div>"
      ],
      "text/plain": [
       "          id                                          title  \\\n",
       "0        278                       The Shawshank Redemption   \n",
       "1      19404                    Dilwale Dulhania Le Jayenge   \n",
       "2        238                                  The Godfather   \n",
       "3        424                               Schindler's List   \n",
       "4        240                         The Godfather: Part II   \n",
       "...      ...                                            ...   \n",
       "9995   10196                             The Last Airbender   \n",
       "9996  331446                       Sharknado 3: Oh Hell No!   \n",
       "9997   13995                                Captain America   \n",
       "9998    2312  In the Name of the King: A Dungeon Siege Tale   \n",
       "9999  455957                                         Domino   \n",
       "\n",
       "                                                   tags  \n",
       "0     Framed in the 1940s for the double murder of h...  \n",
       "1     Raj is a rich, carefree, happy-go-lucky second...  \n",
       "2     Spanning the years 1945 to 1955, a chronicle o...  \n",
       "3     The true story of how businessman Oskar Schind...  \n",
       "4     In the continuing saga of the Corleone crime f...  \n",
       "...                                                 ...  \n",
       "9995  The story follows the adventures of Aang, a yo...  \n",
       "9996  The sharks take bite out of the East Coast whe...  \n",
       "9997  During World War II, a brave, patriotic Americ...  \n",
       "9998  A man named Farmer sets out to rescue his kidn...  \n",
       "9999  Seeking justice for his partner’s murder by an...  \n",
       "\n",
       "[9985 rows x 3 columns]"
      ]
     },
     "execution_count": 9,
     "metadata": {},
     "output_type": "execute_result"
    }
   ],
   "source": [
    "data"
   ]
  },
  {
   "cell_type": "markdown",
   "metadata": {},
   "source": [
    "## Building the Recommender Model "
   ]
  },
  {
   "cell_type": "code",
   "execution_count": 10,
   "metadata": {
    "scrolled": true
   },
   "outputs": [
    {
     "data": {
      "text/plain": [
       "(9985, 9985)"
      ]
     },
     "execution_count": 10,
     "metadata": {},
     "output_type": "execute_result"
    }
   ],
   "source": [
    "from sklearn.feature_extraction.text import CountVectorizer\n",
    "\n",
    "#Creating the object CountVectorizer\n",
    "cv=CountVectorizer(max_features=9985, stop_words='english')\n",
    "# Transforming to counting matrix\n",
    "vector=cv.fit_transform(data['tags'].values.astype('U')).toarray()\n",
    "vector.shape"
   ]
  },
  {
   "cell_type": "code",
   "execution_count": 11,
   "metadata": {},
   "outputs": [
    {
     "data": {
      "text/plain": [
       "array([[1.        , 0.05634362, 0.13041013, ..., 0.07559289, 0.11065667,\n",
       "        0.06900656],\n",
       "       [0.05634362, 1.        , 0.07715167, ..., 0.        , 0.03636965,\n",
       "        0.        ],\n",
       "       [0.13041013, 0.07715167, 1.        , ..., 0.02300219, 0.0673435 ,\n",
       "        0.09449112],\n",
       "       ...,\n",
       "       [0.07559289, 0.        , 0.02300219, ..., 1.        , 0.03253   ,\n",
       "        0.03042903],\n",
       "       [0.11065667, 0.03636965, 0.0673435 , ..., 0.03253   , 1.        ,\n",
       "        0.04454354],\n",
       "       [0.06900656, 0.        , 0.09449112, ..., 0.03042903, 0.04454354,\n",
       "        1.        ]])"
      ]
     },
     "execution_count": 11,
     "metadata": {},
     "output_type": "execute_result"
    }
   ],
   "source": [
    "from sklearn.metrics.pairwise import cosine_similarity\n",
    "similarity=cosine_similarity(vector)\n",
    "similarity"
   ]
  },
  {
   "cell_type": "code",
   "execution_count": 12,
   "metadata": {},
   "outputs": [],
   "source": [
    "#  Printing the 5 most similar movies\n",
    "def recommand(movies):\n",
    "    index=data[data['title']==movies].index[0]\n",
    "    distance = sorted(list(enumerate(similarity[index])), reverse=True, key=lambda vector:vector[1])\n",
    "    for i in distance[1:11]:\n",
    "        print(data.iloc[i[0]].title)"
   ]
  },
  {
   "cell_type": "code",
   "execution_count": 13,
   "metadata": {},
   "outputs": [
    {
     "name": "stdout",
     "output_type": "stream",
     "text": [
      "The Godfather: Part II\n",
      "Blood Ties\n",
      "Joker\n",
      "Bomb City\n",
      "Gotti\n",
      "Felon\n",
      "Rope\n",
      "Batman: The Killing Joke\n",
      "The Big Heat\n",
      "The Outsider\n"
     ]
    }
   ],
   "source": [
    "# Testing \n",
    "recommand(\"The Godfather\") "
   ]
  },
  {
   "cell_type": "code",
   "execution_count": 14,
   "metadata": {},
   "outputs": [],
   "source": [
    "#  Saving data \n",
    "import numpy as np\n",
    "\n",
    "data.to_csv('../suitable_data/clean_recomendation.csv',index=False)"
   ]
  }
 ],
 "metadata": {
  "kernelspec": {
   "display_name": "Python 3 (ipykernel)",
   "language": "python",
   "name": "python3"
  },
  "language_info": {
   "codemirror_mode": {
    "name": "ipython",
    "version": 3
   },
   "file_extension": ".py",
   "mimetype": "text/x-python",
   "name": "python",
   "nbconvert_exporter": "python",
   "pygments_lexer": "ipython3",
   "version": "3.11.5"
  }
 },
 "nbformat": 4,
 "nbformat_minor": 2
}
